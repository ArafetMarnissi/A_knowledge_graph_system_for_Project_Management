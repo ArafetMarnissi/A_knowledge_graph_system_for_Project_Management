{
 "cells": [
  {
   "cell_type": "code",
   "execution_count": 1,
   "metadata": {},
   "outputs": [],
   "source": [
    "import fitz  # PyMuPDF\n",
    "import re\n",
    "import spacy\n",
    "import pymupdf\n",
    "import string\n",
    "import pdfplumber\n",
    "import pandas as pd"
   ]
  },
  {
   "cell_type": "code",
   "execution_count": 20,
   "metadata": {},
   "outputs": [],
   "source": [
    "nlp = spacy.load('en_core_web_trf')\n",
    "pdf_path= r'C:\\Users\\arafe\\Downloads\\Glossary_Of_Risk_Management.pdf'"
   ]
  },
  {
   "cell_type": "code",
   "execution_count": 28,
   "metadata": {},
   "outputs": [],
   "source": [
    "def extract_text_pdfplumber(pdf_path):\n",
    "    text = \"\"\n",
    "    try:\n",
    "        # Open the PDF\n",
    "        pdf_document = fitz.open(pdf_path)\n",
    "        \n",
    "        # Iterate through the pages\n",
    "        for page_num in range(0, 8):  # Customize the page range as per your needs\n",
    "            page = pdf_document.load_page(page_num)  # Get a page\n",
    "            text += page.get_text(\"text\")  # Extract text from the page, format: \"text\"\n",
    "        \n",
    "        pdf_document.close()  # Close the document after extraction\n",
    "    except Exception as e:\n",
    "        print(f\"Error reading the PDF file: {e}\")\n",
    "    \n",
    "    return text\n",
    "\n",
    "# Example usage with spaCy\n",
    "doc = nlp(extract_text_pdfplumber(pdf_path))"
   ]
  },
  {
   "cell_type": "code",
   "execution_count": 29,
   "metadata": {},
   "outputs": [],
   "source": [
    "text =extract_text_pdfplumber(pdf_path)"
   ]
  },
  {
   "cell_type": "code",
   "execution_count": 30,
   "metadata": {},
   "outputs": [
    {
     "data": {
      "text/plain": [
       "'1\\nAccepted Deliverables. Products, results, or capabili\\xad\\nties produced by a project and validated by the pro\\xad\\nject customer or sponsors as meeting their specified \\nacceptance criteria.\\nAccuracy. An assessment of correctness within the \\nquality management system.\\nAcquisition. Obtaining human and material resources \\nnecessary to perform project activities. Acquisition im\\xad\\nplies a cost of resources and is not necessarily financial.\\nActivity. A distinct, scheduled portion of work perfor\\xad\\nmed during the course of a project. \\nActivity Cost Estimates. The projected cost of the plan\\xad\\nned activity, which includes the cost of all resources re\\xad\\nquired to execute and complete the activity, including \\nall cost components and types.\\nActivity Duration. The time in calendar units between \\nthe start and finish of a schedule activity.\\nActivity List. A documented tabulation of schedule ac\\xad\\ntivities that shows the activity description, activity iden\\xad\\ntifier, and a sufficiently detailed scope of work descrip\\xad\\ntion so project team members understand what work \\nis to be performed.\\nActual Cost (AC). The realized cost incurred for the work \\nperformed on an activity during a specific time period.\\nAgreements. Any document or communication that \\ndefines the initial intentions of a project. This can take \\nthe form of a contract, memorandum of understan\\xad\\nding (MOU), letters of agreement, verbal agreements, \\nemail, etc.\\nAlternatives Analysis. A technique used to evaluate iden\\xad\\ntified options in order to select the options or approaches \\nto use to execute and perform the work of the project.\\nAlternatives Generation. A technique used to develop \\nas many potential options as possible to identify diffe\\xad\\nrent approaches to execute and perform the work of \\nthe project.\\nApplying Leads and Lags. A technique used to adjust \\nthe amount of time between predecessor and succes\\xad\\nsor activities.\\nAssumption. A factor in the planning process that is \\nconsidered to be true, real, or certain, without proof or \\ndemonstration.\\nAssumptions Analysis. A technique that analyzes the \\naccuracy of assumptions and identifies project risks \\ncaused by the inaccuracy, inconsistency, or incomple\\xad\\nteness of assumptions.\\nBasis of Estimates. Supporting documentation outli\\xad\\nning the details used in establishing project estimates \\nsuch as assumptions, constraints, level of detail, ran\\xad\\nges, and confidence levels.\\nBenchmarking. The comparison of actual or planned \\npractices, such as processes and operations, to the \\npractices of comparable organizations to identify best \\npractices, generate ideas for improvement, and provi\\xad\\nde a basis for measuring performance.\\nBrainstorming. A general creativity and data collection \\ntechnique that can be used to identify risks, ideas, or \\nsolutions to issues through the participation of a group \\nof team members or experts in the field.\\nBudget. The approved estimate for the project or any \\nwork breakdown structure component or any schedule \\nactivity.\\nA\\nB\\n2\\nData Date. A point in time when the status of the pro\\xad\\nject is recorded.\\nData Gathering Techniques. Repeatable processes \\nused to collect and organize information from a varie\\xad\\nty of sources.\\nDeliverable. Any unique and verifiable product, result, \\nor capability to perform a service that is required to \\nbe produced to complete a process, phase, or project.\\nDocument Analysis. A data gathering technique that \\nanalyzes existing documentation and identifies infor\\xad\\nmation relevant to the requirements.\\nDocumentation Reviews. The process of gathering a \\ncorpus of information and reviewing it to determine \\naccuracy and completeness.\\nChange Request. A formal proposal to modify a docu\\xad\\nment, deliverable, or baseline.\\nConstraint. A limiting factor that affects the execution \\nof a project, program, portfolio, or process.\\nContingency. An event or occurrence that could affect \\nthe execution of the project that may be accounted \\nfor with a reserve.\\nContingency Reserve. The budget allocated in the \\ncost or performance measurement baseline for iden\\xad\\ntified risks that are accepted and for which contingent \\nor mitigation responses are developed. \\nContract. A mutually binding agreement for the par\\xad\\nties that obligates the seller to provide the specified \\nproduct, service, or result and obligates the buyer to \\npay for it.\\nControl Limits. The area composed of three standard \\ndeviations on either side of the centerline or mean of a \\nnormal distribution of data plotted on a control chart, \\nwhich reflects the expected variation in the data.\\nCorrective Action. An intentional activity that realigns \\nthe performance of the project work with the project \\nmanagement plan.\\nCost-Benefit Analysis. A financial analysis tool used to \\ndetermine the benefits provided by a project against \\nits costs. \\nCost Performance Index (CPI). A measure of the cost \\nefficiency of budgeted resources expressed as the ra\\xad\\ntio of earned value to actual cost.\\nCriteria. Standards, rules, or tests on which a judgment \\nor decision can be based or by which a product, servi\\xad\\nce, result, or process can be evaluated.\\nCritical Path. The sequence of activities that repre\\xad\\nsents the longest path through a project, which deter\\xad\\nmines the shortest possible duration.\\nEarned Value Management. A methodology that com\\xad\\nbines scope, schedule, and resource measurements to \\nassess project performance and progress.\\nEnterprise Environmental Factors. Conditions, not un\\xad\\nder the immediate control of the team, that influence, \\nconstrain, or direct the project, program, or portfolio.\\nEstimate Activity Durations. The process of estimating \\nthe number of work periods needed to complete indi\\xad\\nvidual activities with the estimated resources.\\nEstimate Activity Resources. The process of estima\\xad\\nting the type and quantities of material, people, equi\\xad\\npment, or supplies necessary to perform each activity.\\nC\\nD\\nE\\nCritical Path Activity. Any activity on the critical path in \\na project schedule. \\nCustomer. The person, people, organization, or organi\\xad\\nzations that will pay for the product, service, or result \\nof the project. Customers can be internal or external to \\nthe performing organization.\\n3\\nFacilitated Workshops. A technique for extracting in\\xad\\nformation that includes focused sessions, in which key \\ninterdisciplinary stakeholders meet to define product \\nrequirements.\\nForecast. An estimate or prediction of conditions and \\nevents in the project’s future based on information and \\nknowledge available at the time of the forecast. The in\\xad\\nformation is based on the project’s past performance \\nand its expected performance for the future, and it in\\xad\\ncludes information that could have an impact on the \\nproject in the future, such as estimate at completion \\nand estimate to completion.\\nFree Float. The amount of time that a schedule activity \\ncan be delayed without delaying the early start date of \\nany successor or violating a schedule constraint.\\nF\\nGuideline. Official advice or recommendations that \\nindicate policies, standards, or procedures about how \\nsomething should be carried out.\\nHistorical Information. Documents and data on prior \\nprojects including project files, records, corresponden\\xad\\nce, closed contracts, and closed projects.\\nIdentify Risks. The process of determining which risks may \\naffect the project and documenting their characteristics.\\nIdentify Stakeholders. The process of identifying the \\npeople, groups, or organizations that could impact or \\nbe impacted by a project decision, activity, or result, \\nas well as analyzing and documenting relevant infor\\xad\\nmation regarding their interests, involvement, interde\\xad\\npendencies, influence, and potential impact on project \\nsuccess.\\nInput. Any item, whether internal or external to the project, \\nwhich is required by a process before that process pro\\xad\\nceeds. It may be an output from a predecessor process.\\nInterviews. A formal or informal approach to elicit in\\xad\\nformation from stakeholders by talking to them directly.\\nG\\nH\\nI\\nEstimate Costs. The process of developing an approxi\\xad\\nmation of the monetary resources needed to comple\\xad\\nte project work.\\nExecute. Accomplishing the project work; providing the \\ndeliverables; and providing work performance infor\\xad\\nmation.\\nExecuting Process Group. Processes performed to \\ncomplete the work defined in the project manage\\xad\\nment plan to satisfy the project requirements.\\nExpert Judgment. Judgment provided based upon ex\\xad\\npertise in an application area, knowledge area, disci\\xad\\npline, industry, etc., as appropriate for the activity be\\xad\\ning performed. Such expertise may be provided by any \\ngroup or person with specialized education, knowled\\xad\\nge, skill, experience, or training.\\nLag. The amount of time whereby a successor activity \\nwill be delayed with respect to a predecessor activity.\\nLessons Learned. Knowledge gained during a project, \\nwhich shows how project events were addressed or \\nshould be addressed in the future for the purpose of \\nimproving future performance.\\nLessons Learned Knowledge Base. The storage of his\\xad\\ntorical information and lessons learned from both the \\nresults of selection decisions from previous projects \\nand the performance of previous projects. \\nLog. A document used to record and describe or de\\xad\\nnote selected items identified during the execution of \\nL\\n4\\nNegotiation. The process and activities carried out to \\nsettle disputes through consultations and dialogues \\namong the parties involved.\\nObjective. A goal toward which work is to be directed, \\na strategic position to be attained, a purpose to be \\nachieved, a result to be obtained, a product to be pro\\xad\\nduced, or a service to be performed.\\nOpportunity. A risk that would have a positive effect on \\none or more project objectives.\\nOrganizational Process Assets. Plans, processes, poli\\xad\\ncies, procedures, and knowledge bases that are speci\\xad\\nfic to and used by the performing organization.\\nPerform Qualitative Risk Analysis. The process of prio\\xad\\nritizing risks for further analysis or action by assessing \\nand combining their probability of occurrence and im\\xad\\npact.\\nPerform Quantitative Risk Analysis. The process of nu\\xad\\nmerically analyzing the effect of identified risks on ove\\xad\\nrall project objectives.\\nPlan Risk Management. The process of defining how to \\nconduct risk management activities for a project.\\nPlan Risk Responses. The process of developing op\\xad\\ntions and actions to improve opportunities and reduce \\nthreats to project objectives.\\nPlanning Process Group. Processes required to establi\\xad\\nsh the scope of the project, refine the objectives, and \\ndefine the course of action required to attain the ob\\xad\\njectives that the project was undertaken to achieve.\\nPolicy. A structured pattern of actions adopted by an \\norganization such that the organization’s policy can be \\nexplained as a set of basic principles that govern the \\norganization’s conduct.\\nPortfolio. Projects, programs, subsidiary portfolios, and \\noperations managed as a group to achieve strategic \\nobjectives.\\nPreventive Action. An intentional activity that ensures \\nthe future performance of the project work is aligned \\nwith the project management plan.\\nProbability and Impact Matrix. A grid for linking or ma\\xad\\npping the probability of occurrence of each risk and its \\nimpact on project objectives if that risk occurs.\\nProcedure. An established method of accomplishing a \\nconsistent performance or result, a procedure typically \\ncan be described as the sequence of steps that will be \\nused to execute a process.\\nManage Communications. The process of collecting, \\ncreating, distributing, storing, retrieving, and ultimate\\xad\\nly disposing of project information, according to the \\nCommunications Management Plan.\\nMonitor. Collecting project performance data accor\\xad\\nding to a plan, producing performance measures, and \\nreporting and disseminating performance information.\\nMonitoring and Controlling Process Group. Processes \\nrequired to track, review, and regulate the progress \\nand performance of the project; identify any areas in \\nwhich changes to the plan are required; and initiate \\nthe corresponding changes.\\nM\\nN\\nO\\nP\\na process or activity. It is usually used with a modifier, \\nsuch as “issue,” “change,” “assumption,” or “defect.”\\nLogical Relationship. A dependency between two acti\\xad\\nvities or between an activity and a milestone.\\nOutput. A product, result, or service generated by a \\nprocess. It may be an input to a successor process.\\n5\\nProcess. A systematic series of activities directed toward \\ncausing an end result such that one or more inputs will \\nbe acted upon to create one or more outputs.\\nProduct. An artifact that is produced, is quantifiable, \\nand can be either an end item in itself or a component \\nitem. Additional words for products are “material” and \\n“goods.” \\nProgram. Related projects, subsidiary programs, and \\nprogram activities that are managed in a coordinated \\nmanner to obtain benefits not available from mana\\xad\\nging them individually. \\nProgram Management. The application of knowledge, \\nskills, tools, and techniques to a program to meet its re\\xad\\nquirements and obtain benefits and control not avai\\xad\\nlable by managing projects individually.\\nProject. A temporary endeavor undertaken to create a \\nunique product, service, or result. \\nProject Communications Management. It includes the \\nprocesses required to ensure timely and appropriate \\nplanning, collection, creation, distribution, storage, re\\xad\\ntrieval, management, control, monitoring, and ultimate \\ndisposition of project information.\\nProject Cost Management. It includes the processes \\ninvolved in planning, estimating, budgeting, financing, \\nfunding, managing, and controlling costs so the pro\\xad\\nject can be completed within the approved budget.\\nProject Human Resources Management. It includes \\nthe processes that organize, manage, and lead the \\nproject team.\\nProject Integration Management. It includes the pro\\xad\\ncesses and activities to identify, define, combine, unify, \\nand coordinate the various processes and project ma\\xad\\nnagement activities within the Project Management \\nProcess Groups.\\nProject Life Cycle. The series of phases that a project \\npasses through from its start to its completion.\\nProject Management. The application of knowledge, \\nskills, tools, and techniques to project activities to meet \\nthe project requirements. \\nProject Management Knowledge Area. An identified area \\nof project management defined by its knowledge require\\xad\\nments and described in terms of its component proces\\xad\\nses, practices, inputs, outputs, tools, and techniques.\\nProject Management Process Group. A logical grou\\xad\\nping of project management inputs, tools and tech\\xad\\nniques, and outputs. Project Management Process \\nGroups include initiating processes, planning proces\\xad\\nses, executing processes, monitoring and controlling \\nprocesses, and closing processes. Project Manage\\xad\\nment Process Groups are not project phases.\\nProject Manager (PM). The person assigned by the \\nperforming organization to lead the team that is res\\xad\\nponsible for achieving the project objectives.\\nProject Phase. A collection of logically related project \\nactivities that culminates in the completion of one or \\nmore deliverables.\\nProject Procurement Management. It includes the pro\\xad\\ncesses necessary to purchase or acquire products, ser\\xad\\nvices, or results needed from outside the project team.\\nProject Quality Management. It includes the perfor\\xad\\nming organization’s processes and activities, which \\ndetermine quality policies, objectives, and responsibi\\xad\\nlities, so the project meets the needs for which it is ca\\xad\\nrried out.\\nProject Risk Management. It includes the processes \\nconcerned with conducting risk management plan\\xad\\nning, as well as the identification, analysis, response \\nplanning, response implementation, and monitoring of \\nrisk on a project.\\nProject Schedule. An output of a schedule model that \\npresents linked activities with planned dates, durations, \\nmilestones, and resources. \\nProject Schedule Management. It includes the proces\\xad\\nses required to manage the timely completion of the \\nproject.\\nProject Schedule Network Diagram. A graphical repre\\xad\\nsentation of the logical relationships among the pro\\xad\\nject schedule activities.\\n6\\nProject Scope. The work performed to deliver a pro\\xad\\nduct, service, or result with the specified features and \\nfunctions. \\nProject Scope Management. It includes the processes \\nrequired to ensure that the project includes all the work \\nrequired, and only the work required, to complete the \\nproject successfully.\\nProject Stakeholder Management. It includes the pro\\xad\\ncesses required to identify the people, groups, or or\\xad\\nganizations that could impact or be impacted by the \\nproject, to analyze stakeholder expectations and their \\nimpact on the project, and to develop appropria\\xad\\nte management strategies for effectively engaging \\nstakeholders in project decisions and execution.\\nProject Team. A set of individuals who support the pro\\xad\\nject manager in performing the work of the project to \\nachieve its objectives.\\nQuality. The degree to which a set of inherent charac\\xad\\nteristics fulfills requirements. \\nQuality Requirement. A condition or capability that will \\nbe used to assess conformance by validating the ac\\xad\\nceptability of an attribute for the quality of a result.\\nRACI. A common type of responsibility assignment ma\\xad\\ntrix that uses responsible, accountable, consult, and \\ninform statuses to define the involvement of stakehol\\xad\\nders in project activities.\\nRequested Change. A formally documented change \\nrequest that is submitted for approval through the In\\xad\\ntegrated Change Control Process.\\nRequirement. A condition or capability that must be \\npresent in a product, service, or result to satisfy a con\\xad\\ntract or another formally imposed specification.\\nQ\\nR\\nReserve. A provision in the project management plan \\nto mitigate cost and/or schedule risk. It is often used \\nwith a modifier (e.g., management reserve, contingen\\xad\\ncy reserve) to provide further detail on what types of \\nrisk are meant to be mitigated.\\nReserve Analysis. An analytical technique to determi\\xad\\nne reserve needs compared to the available reserve. \\nResidual Risk. The risk that remains after risk responses \\nhave been implemented.\\nResource. Specialized human resources (specific disci\\xad\\nplines, either individually, in teams, or in groups), equi\\xad\\npment, services, supplies, raw materials, materials, bu\\xad\\ndgets, or funds.\\nResponsibility. An assignment that can be delegated \\nwithin a project management plan such that the as\\xad\\nsigned resource incurs a duty to perform the require\\xad\\nments of the assignment. \\nResponsibility Assignment Matrix (RAM). A grid that \\nshows the project resources assigned to each work \\npackage.\\nRisk. An uncertain event or condition that, if it occurs, \\nhas a positive or negative effect on one or more pro\\xad\\nject objectives. \\nRisk Acceptance. A risk response strategy whereby the \\nproject team decides to acknowledge the risk and not \\ntake any action unless the risk occurs.\\nRisk Appetite. The degree of uncertainty an organiza\\xad\\ntion or individual is willing to accept in anticipation of \\na reward.\\nRisk Audits. Examining and documenting the effective\\xad\\nness of the risk management process.\\nRisk Avoidance. A risk response strategy whereby the \\nproject team acts to eliminate the threat or protect the \\nproject from its impact.\\nRisk Breakdown Structure (RBS). A hierarchical repre\\xad\\nsentation of risks arranged by risk category.\\nRisk Categorization. Organizing risks by sources of risk \\n7\\n(e.g., using the RBS), the area of the project affected \\n(e.g., using the WBS), or another useful category (e.g., \\nproject phase) to determine the areas of the project \\nthat are most exposed to the effects of uncertainty.\\nRisk Data Quality Assessment. A technique to evaluate \\nthe degree to which the data about risks is useful for \\nrisk management.\\nRisk Management Plan. A component of the project, \\nprogram, or portfolio management plan that descri\\xad\\nbes how risk management activities will be structured \\nand performed.\\nRisk Mitigation. A risk response strategy whereby the \\nproject team acts to decrease the probability of occu\\xad\\nrrence or impact of a threat.\\nRisk Reassessment. The identification of new risks, the \\nreassessment of current risks, and the closing of out\\xad\\ndated risks.\\nRisk Register. A document containing the results of risk \\nanalysis and risk response planning.\\nRisk Threshold. The degree of uncertainty or impact \\nin which a stakeholder may have particular interest. \\nThe organization will accept risk that falls below that \\nrisk threshold. The organization will not tolerate risk that \\ngoes above that risk threshold.\\nRisk Tolerance. The degree, quantity, or volume of risk \\nthat an organization or an individual will endure.\\nRisk Transference. A risk response strategy whereby \\nthe project team shifts the impact of a threat to a third \\nparty, together with ownership of the response.\\nRisk Urgency Assessment. The review and determina\\xad\\ntion of the moment in which actions may be necessary \\nbefore other risk elements occur.\\nRole. A defined function to be performed by a project \\nteam member, such as testing, filing, inspecting, or coding.\\nS\\nSchedule Compression. A technique used to shorten the \\nschedule duration without reducing the project scope.\\nSchedule Performance Index (SPI). A measure of sche\\xad\\ndule efficiency expressed as the ratio of earned value \\nto planned value.\\nScope. The sum of the products, services, and results to \\nbe provided as a project. \\nSecondary Risk. A risk that arises as a direct result of \\nimplementing a risk response.\\nSequence Activities. The process of identifying and do\\xad\\ncumenting relationships among the project activities.\\nSpecification. A document that completely, accura\\xad\\ntely, and verifiably expresses the requirements, de\\xad\\nsign, behavior, and other characteristics of a system, \\ncomponent, product, result, or service, as well as the \\nprocedures to determine if these provisions have been \\nmet. Some examples are requirements specifications, \\ndesign specifications, product specifications, and test \\nspecifications.\\nStakeholder. An individual, group, or organization that \\nmay affect, be affected by, or perceive itself to be \\naffected by a decision, activity, or outcome of a project. \\nStakeholder Analysis. A technique of systematically \\ngathering and analyzing quantitative and qualitative \\ninformation to determine whose interests should be \\ntaken into account throughout the project.\\nStakeholder Register. A project document including \\nthe identification, assessment, and classification of \\nproject stakeholders.\\n Standard. A document that provides, for common and \\nrepetitive use, the rules, guidelines, or characteristics \\nthat activities (or their results) should meet in order to \\nobtain an optimal degree of order in a given context.\\nSWOT Analysis. Analysis of strengths, weaknesses, oppor\\xad\\ntunities, and threats of an organization, project, or option.\\n8\\nT\\nV\\nW\\nTechnique. A systematic procedure defined and em\\xad\\nployed by one or more persons to perform one or more \\nactivities in order to generate a product or result or \\nprovide a service. It may use one or more tools.\\nDiagramming Techniques. Approaches to presenting \\ninformation with logical linkages that aid in understan\\xad\\nding.\\nTemplates. Partially complete documents in a predefi\\xad\\nned format that provide a defined structure for collec\\xad\\nting, organizing, and presenting information and data.\\nThreat. A risk that would have a negative effect on one \\nor more project objectives.\\nTool. Something tangible, such as a template or sof\\xad\\ntware program, used in performing an activity to pro\\xad\\nduce a product or result.\\nTotal Float. The amount of time that a schedule activity \\ncan be delayed or extended from its early start date \\nwithout delaying the project finish date or violating a \\nschedule constraint.\\nTrigger Condition. An event or situation that indicates \\nthat a risk is about to occur.\\nVariance Analysis. A technique for determining the \\ncause and degree of difference between the baseline \\nand actual performance.\\nVerified Deliverables. Completed project deliverables \\nthat have been checked and confirmed for correct\\xad\\nness through the Control Quality process.\\nWork Breakdown Structure Component. An entry in the \\nwork breakdown structure that can be at any level.\\nWork Package. The work defined at the lowest level of \\nthe work breakdown structure for which cost and dura\\xad\\ntion are estimated and managed.\\nWork Performance Data. The raw observations and \\nmeasurements identified during activities being per\\xad\\nformed to carry out the project work.\\nWork Performance Reports. The physical or electronic \\nrepresentation of work performance information com\\xad\\npiled in project documents, intended to generate deci\\xad\\nsions, actions, or awareness.\\n*Reading created in-house, based on A Guide to the Project\\nManagement Body of Knowledge (PMBOK® Guide) / Project\\nManagement Institute, Sixth Edition.\\n'"
      ]
     },
     "execution_count": 30,
     "metadata": {},
     "output_type": "execute_result"
    }
   ],
   "source": [
    "text"
   ]
  },
  {
   "cell_type": "code",
   "execution_count": 33,
   "metadata": {},
   "outputs": [],
   "source": [
    "import re\n",
    "\n",
    "def extract_sections(text):\n",
    "    sections = []\n",
    "    # Regex pattern to match bold-like sections\n",
    "    section_pattern = re.compile(r'^\\s*([A-Z][a-zA-Z]*(?:\\s+[A-Z][a-zA-Z]*)*)\\.\\s')\n",
    "\n",
    "    # Split the text into lines\n",
    "    lines = text.split('\\n')\n",
    "    \n",
    "    # Iterate through each line, capturing the line and its index\n",
    "    for idx, line in enumerate(lines):\n",
    "        # Check if the line matches the section pattern\n",
    "        match = section_pattern.match(line)\n",
    "        if match:\n",
    "            sections.append((idx, match.group(1)))  # Append the index and the section title\n",
    "\n",
    "    return sections\n"
   ]
  },
  {
   "cell_type": "code",
   "execution_count": 35,
   "metadata": {},
   "outputs": [
    {
     "name": "stdout",
     "output_type": "stream",
     "text": [
      "[(1, 'Accepted Deliverables'), (5, 'Accuracy'), (7, 'Acquisition'), (10, 'Activity'), (12, 'Activity Cost Estimates'), (16, 'Activity Duration'), (18, 'Activity List'), (25, 'Agreements'), (30, 'Alternatives Analysis'), (33, 'Alternatives Generation'), (40, 'Assumption'), (43, 'Assumptions Analysis'), (51, 'Benchmarking'), (56, 'Brainstorming'), (60, 'Budget'), (66, 'Data Date'), (68, 'Data Gathering Techniques'), (71, 'Deliverable'), (74, 'Document Analysis'), (77, 'Documentation Reviews'), (80, 'Change Request'), (82, 'Constraint'), (84, 'Contingency'), (87, 'Contingency Reserve'), (91, 'Contract'), (95, 'Control Limits'), (99, 'Corrective Action'), (108, 'Criteria'), (111, 'Critical Path'), (114, 'Earned Value Management'), (117, 'Enterprise Environmental Factors'), (120, 'Estimate Activity Durations'), (123, 'Estimate Activity Resources'), (129, 'Critical Path Activity'), (131, 'Customer'), (136, 'Facilitated Workshops'), (140, 'Forecast'), (148, 'Free Float'), (152, 'Guideline'), (155, 'Historical Information'), (158, 'Identify Risks'), (160, 'Identify Stakeholders'), (167, 'Input'), (170, 'Interviews'), (175, 'Estimate Costs'), (178, 'Execute'), (181, 'Executing Process Group'), (184, 'Expert Judgment'), (190, 'Lag'), (192, 'Lessons Learned'), (196, 'Lessons Learned Knowledge Base'), (200, 'Log'), (204, 'Negotiation'), (207, 'Objective'), (211, 'Opportunity'), (213, 'Organizational Process Assets'), (216, 'Perform Qualitative Risk Analysis'), (220, 'Perform Quantitative Risk Analysis'), (223, 'Plan Risk Management'), (225, 'Plan Risk Responses'), (228, 'Planning Process Group'), (232, 'Policy'), (236, 'Portfolio'), (239, 'Preventive Action'), (245, 'Procedure'), (249, 'Manage Communications'), (253, 'Monitor'), (267, 'Logical Relationship'), (269, 'Output'), (272, 'Process'), (275, 'Product'), (279, 'Program'), (283, 'Program Management'), (287, 'Project'), (289, 'Project Communications Management'), (294, 'Project Cost Management'), (298, 'Project Human Resources Management'), (301, 'Project Integration Management'), (306, 'Project Life Cycle'), (308, 'Project Management'), (311, 'Project Management Knowledge Area'), (315, 'Project Management Process Group'), (325, 'Project Phase'), (328, 'Project Procurement Management'), (331, 'Project Quality Management'), (336, 'Project Risk Management'), (341, 'Project Schedule'), (344, 'Project Schedule Management'), (347, 'Project Schedule Network Diagram'), (351, 'Project Scope'), (354, 'Project Scope Management'), (358, 'Project Stakeholder Management'), (365, 'Project Team'), (368, 'Quality'), (370, 'Quality Requirement'), (373, 'RACI'), (377, 'Requested Change'), (380, 'Requirement'), (385, 'Reserve'), (390, 'Reserve Analysis'), (392, 'Residual Risk'), (394, 'Resource'), (398, 'Responsibility'), (405, 'Risk'), (408, 'Risk Acceptance'), (411, 'Risk Appetite'), (414, 'Risk Audits'), (416, 'Risk Avoidance'), (421, 'Risk Categorization'), (427, 'Risk Data Quality Assessment'), (430, 'Risk Management Plan'), (434, 'Risk Mitigation'), (437, 'Risk Reassessment'), (440, 'Risk Register'), (442, 'Risk Threshold'), (447, 'Risk Tolerance'), (449, 'Risk Transference'), (452, 'Risk Urgency Assessment'), (455, 'Role'), (458, 'Schedule Compression'), (463, 'Scope'), (465, 'Secondary Risk'), (467, 'Sequence Activities'), (469, 'Specification'), (477, 'Stakeholder'), (480, 'Stakeholder Analysis'), (484, 'Stakeholder Register'), (487, 'Standard'), (491, 'SWOT Analysis'), (497, 'Technique'), (501, 'Diagramming Techniques'), (504, 'Templates'), (507, 'Threat'), (509, 'Tool'), (512, 'Total Float'), (516, 'Trigger Condition'), (518, 'Variance Analysis'), (521, 'Verified Deliverables'), (524, 'Work Breakdown Structure Component'), (526, 'Work Package'), (529, 'Work Performance Data'), (532, 'Work Performance Reports')]\n"
     ]
    }
   ],
   "source": [
    "keywords = extract_sections(text)\n",
    "print(keywords)"
   ]
  },
  {
   "cell_type": "code",
   "execution_count": 37,
   "metadata": {},
   "outputs": [
    {
     "data": {
      "text/plain": [
       "['Specification. A document that completely, accura\\xad',\n",
       " 'tely, and verifiably expresses the requirements, de\\xad',\n",
       " 'sign, behavior, and other characteristics of a system, ',\n",
       " 'component, product, result, or service, as well as the ',\n",
       " 'procedures to determine if these provisions have been ',\n",
       " 'met. Some examples are requirements specifications, ',\n",
       " 'design specifications, product specifications, and test ',\n",
       " 'specifications.']"
      ]
     },
     "execution_count": 37,
     "metadata": {},
     "output_type": "execute_result"
    }
   ],
   "source": [
    "lines = text.split('\\n')\n",
    "lines[469:477]"
   ]
  },
  {
   "cell_type": "code",
   "execution_count": 38,
   "metadata": {},
   "outputs": [
    {
     "data": {
      "text/html": [
       "<div>\n",
       "<style scoped>\n",
       "    .dataframe tbody tr th:only-of-type {\n",
       "        vertical-align: middle;\n",
       "    }\n",
       "\n",
       "    .dataframe tbody tr th {\n",
       "        vertical-align: top;\n",
       "    }\n",
       "\n",
       "    .dataframe thead th {\n",
       "        text-align: right;\n",
       "    }\n",
       "</style>\n",
       "<table border=\"1\" class=\"dataframe\">\n",
       "  <thead>\n",
       "    <tr style=\"text-align: right;\">\n",
       "      <th></th>\n",
       "      <th>Keywords</th>\n",
       "      <th>Ids</th>\n",
       "    </tr>\n",
       "  </thead>\n",
       "  <tbody>\n",
       "    <tr>\n",
       "      <th>0</th>\n",
       "      <td>Accepted Deliverables</td>\n",
       "      <td>1</td>\n",
       "    </tr>\n",
       "    <tr>\n",
       "      <th>1</th>\n",
       "      <td>Accuracy</td>\n",
       "      <td>5</td>\n",
       "    </tr>\n",
       "    <tr>\n",
       "      <th>2</th>\n",
       "      <td>Acquisition</td>\n",
       "      <td>7</td>\n",
       "    </tr>\n",
       "    <tr>\n",
       "      <th>3</th>\n",
       "      <td>Activity</td>\n",
       "      <td>10</td>\n",
       "    </tr>\n",
       "    <tr>\n",
       "      <th>4</th>\n",
       "      <td>Activity Cost Estimates</td>\n",
       "      <td>12</td>\n",
       "    </tr>\n",
       "  </tbody>\n",
       "</table>\n",
       "</div>"
      ],
      "text/plain": [
       "                  Keywords  Ids\n",
       "0    Accepted Deliverables    1\n",
       "1                 Accuracy    5\n",
       "2              Acquisition    7\n",
       "3                 Activity   10\n",
       "4  Activity Cost Estimates   12"
      ]
     },
     "execution_count": 38,
     "metadata": {},
     "output_type": "execute_result"
    }
   ],
   "source": [
    "import pandas as pd\n",
    "data_frame_of_sections = pd.DataFrame()\n",
    "section=[]\n",
    "ids=[]\n",
    "for i in range(len (keywords)):\n",
    "    section.append(keywords[i][1])\n",
    "    ids.append(keywords[i][0])\n",
    "data_frame_of_sections['Keywords'] = section\n",
    "data_frame_of_sections['Ids'] = ids\n",
    "data_frame_of_sections.head()\n"
   ]
  },
  {
   "cell_type": "code",
   "execution_count": 45,
   "metadata": {},
   "outputs": [],
   "source": [
    "def extract_paragraph__(text,start_idx,end_edx):\n",
    "    lines = text.split('\\n')\n",
    "    paragraph=lines[start_idx:end_edx]\n",
    "    combined_string = ' '.join(paragraph)\n",
    "    return combined_string"
   ]
  },
  {
   "cell_type": "code",
   "execution_count": 46,
   "metadata": {},
   "outputs": [],
   "source": [
    "def extract_paragraphs_to_dataframe(df, text):\n",
    "    \"\"\"\n",
    "    Extracts paragraphs between consecutive section IDs in the DataFrame and injects the results.\n",
    "    \n",
    "    :param df: A DataFrame containing section IDs.\n",
    "    :param text: The complete text as a string.\n",
    "    :return: The updated DataFrame with extracted paragraphs.\n",
    "    \"\"\"\n",
    "    paragraphs = []  # List to store extracted paragraphs\n",
    "\n",
    "    # Iterate through the DataFrame rows to extract paragraphs\n",
    "    for i in range(len(df) - 1):\n",
    "        start_id = df.loc[i, 'Ids']  # Current ID\n",
    "        end_id = df.loc[i + 1, 'Ids']  # Next ID\n",
    "        print(start_id,end_id)\n",
    "        # Extract the paragraph between the two IDs\n",
    "        paragraph = extract_paragraph__(text, start_id, end_id)\n",
    "        if paragraph==\"\":\n",
    "            paragraph= \"no_paragraph\"\n",
    "        paragraphs.append(paragraph)  # Append extracted paragraph to the list\n",
    "\n",
    "    # Add the extracted paragraphs to a new column in the DataFrame\n",
    "    # Fill with None or empty string for the last ID\n",
    "    paragraphs.append(\"no_paragraph\")  # Append empty string for the last ID\n",
    "\n",
    "    df['paragraphs'] = paragraphs  # Create new column 'paragraphs'\n",
    "\n",
    "    return df"
   ]
  },
  {
   "cell_type": "code",
   "execution_count": 47,
   "metadata": {},
   "outputs": [
    {
     "name": "stdout",
     "output_type": "stream",
     "text": [
      "1 5\n",
      "5 7\n",
      "7 10\n",
      "10 12\n",
      "12 16\n",
      "16 18\n",
      "18 25\n",
      "25 30\n",
      "30 33\n",
      "33 40\n",
      "40 43\n",
      "43 51\n",
      "51 56\n",
      "56 60\n",
      "60 66\n",
      "66 68\n",
      "68 71\n",
      "71 74\n",
      "74 77\n",
      "77 80\n",
      "80 82\n",
      "82 84\n",
      "84 87\n",
      "87 91\n",
      "91 95\n",
      "95 99\n",
      "99 108\n",
      "108 111\n",
      "111 114\n",
      "114 117\n",
      "117 120\n",
      "120 123\n",
      "123 129\n",
      "129 131\n",
      "131 136\n",
      "136 140\n",
      "140 148\n",
      "148 152\n",
      "152 155\n",
      "155 158\n",
      "158 160\n",
      "160 167\n",
      "167 170\n",
      "170 175\n",
      "175 178\n",
      "178 181\n",
      "181 184\n",
      "184 190\n",
      "190 192\n",
      "192 196\n",
      "196 200\n",
      "200 204\n",
      "204 207\n",
      "207 211\n",
      "211 213\n",
      "213 216\n",
      "216 220\n",
      "220 223\n",
      "223 225\n",
      "225 228\n",
      "228 232\n",
      "232 236\n",
      "236 239\n",
      "239 245\n",
      "245 249\n",
      "249 253\n",
      "253 267\n",
      "267 269\n",
      "269 272\n",
      "272 275\n",
      "275 279\n",
      "279 283\n",
      "283 287\n",
      "287 289\n",
      "289 294\n",
      "294 298\n",
      "298 301\n",
      "301 306\n",
      "306 308\n",
      "308 311\n",
      "311 315\n",
      "315 325\n",
      "325 328\n",
      "328 331\n",
      "331 336\n",
      "336 341\n",
      "341 344\n",
      "344 347\n",
      "347 351\n",
      "351 354\n",
      "354 358\n",
      "358 365\n",
      "365 368\n",
      "368 370\n",
      "370 373\n",
      "373 377\n",
      "377 380\n",
      "380 385\n",
      "385 390\n",
      "390 392\n",
      "392 394\n",
      "394 398\n",
      "398 405\n",
      "405 408\n",
      "408 411\n",
      "411 414\n",
      "414 416\n",
      "416 421\n",
      "421 427\n",
      "427 430\n",
      "430 434\n",
      "434 437\n",
      "437 440\n",
      "440 442\n",
      "442 447\n",
      "447 449\n",
      "449 452\n",
      "452 455\n",
      "455 458\n",
      "458 463\n",
      "463 465\n",
      "465 467\n",
      "467 469\n",
      "469 477\n",
      "477 480\n",
      "480 484\n",
      "484 487\n",
      "487 491\n",
      "491 497\n",
      "497 501\n",
      "501 504\n",
      "504 507\n",
      "507 509\n",
      "509 512\n",
      "512 516\n",
      "516 518\n",
      "518 521\n",
      "521 524\n",
      "524 526\n",
      "526 529\n",
      "529 532\n"
     ]
    },
    {
     "data": {
      "text/html": [
       "<div>\n",
       "<style scoped>\n",
       "    .dataframe tbody tr th:only-of-type {\n",
       "        vertical-align: middle;\n",
       "    }\n",
       "\n",
       "    .dataframe tbody tr th {\n",
       "        vertical-align: top;\n",
       "    }\n",
       "\n",
       "    .dataframe thead th {\n",
       "        text-align: right;\n",
       "    }\n",
       "</style>\n",
       "<table border=\"1\" class=\"dataframe\">\n",
       "  <thead>\n",
       "    <tr style=\"text-align: right;\">\n",
       "      <th></th>\n",
       "      <th>Keywords</th>\n",
       "      <th>Ids</th>\n",
       "      <th>paragraphs</th>\n",
       "    </tr>\n",
       "  </thead>\n",
       "  <tbody>\n",
       "    <tr>\n",
       "      <th>0</th>\n",
       "      <td>Accepted Deliverables</td>\n",
       "      <td>1</td>\n",
       "      <td>Accepted Deliverables. Products, results, or c...</td>\n",
       "    </tr>\n",
       "    <tr>\n",
       "      <th>1</th>\n",
       "      <td>Accuracy</td>\n",
       "      <td>5</td>\n",
       "      <td>Accuracy. An assessment of correctness within ...</td>\n",
       "    </tr>\n",
       "    <tr>\n",
       "      <th>2</th>\n",
       "      <td>Acquisition</td>\n",
       "      <td>7</td>\n",
       "      <td>Acquisition. Obtaining human and material reso...</td>\n",
       "    </tr>\n",
       "    <tr>\n",
       "      <th>3</th>\n",
       "      <td>Activity</td>\n",
       "      <td>10</td>\n",
       "      <td>Activity. A distinct, scheduled portion of wor...</td>\n",
       "    </tr>\n",
       "    <tr>\n",
       "      <th>4</th>\n",
       "      <td>Activity Cost Estimates</td>\n",
       "      <td>12</td>\n",
       "      <td>Activity Cost Estimates. The projected cost of...</td>\n",
       "    </tr>\n",
       "  </tbody>\n",
       "</table>\n",
       "</div>"
      ],
      "text/plain": [
       "                  Keywords  Ids  \\\n",
       "0    Accepted Deliverables    1   \n",
       "1                 Accuracy    5   \n",
       "2              Acquisition    7   \n",
       "3                 Activity   10   \n",
       "4  Activity Cost Estimates   12   \n",
       "\n",
       "                                          paragraphs  \n",
       "0  Accepted Deliverables. Products, results, or c...  \n",
       "1  Accuracy. An assessment of correctness within ...  \n",
       "2  Acquisition. Obtaining human and material reso...  \n",
       "3  Activity. A distinct, scheduled portion of wor...  \n",
       "4  Activity Cost Estimates. The projected cost of...  "
      ]
     },
     "execution_count": 47,
     "metadata": {},
     "output_type": "execute_result"
    }
   ],
   "source": [
    "df=extract_paragraphs_to_dataframe(data_frame_of_sections, text)\n",
    "df.head()\n",
    "# data_frame_of_sections.to_csv('DataSet.csv', index=False)"
   ]
  },
  {
   "cell_type": "code",
   "execution_count": 48,
   "metadata": {},
   "outputs": [],
   "source": [
    "data_frame_of_sections.to_csv('DataSet_GRM.csv', index=False)"
   ]
  },
  {
   "cell_type": "code",
   "execution_count": null,
   "metadata": {},
   "outputs": [],
   "source": []
  },
  {
   "cell_type": "code",
   "execution_count": null,
   "metadata": {},
   "outputs": [],
   "source": []
  },
  {
   "cell_type": "code",
   "execution_count": null,
   "metadata": {},
   "outputs": [],
   "source": []
  },
  {
   "cell_type": "code",
   "execution_count": null,
   "metadata": {},
   "outputs": [],
   "source": []
  },
  {
   "cell_type": "code",
   "execution_count": null,
   "metadata": {},
   "outputs": [],
   "source": []
  },
  {
   "cell_type": "code",
   "execution_count": null,
   "metadata": {},
   "outputs": [],
   "source": []
  }
 ],
 "metadata": {
  "kernelspec": {
   "display_name": "venv",
   "language": "python",
   "name": "python3"
  },
  "language_info": {
   "codemirror_mode": {
    "name": "ipython",
    "version": 3
   },
   "file_extension": ".py",
   "mimetype": "text/x-python",
   "name": "python",
   "nbconvert_exporter": "python",
   "pygments_lexer": "ipython3",
   "version": "3.12.7"
  }
 },
 "nbformat": 4,
 "nbformat_minor": 2
}
